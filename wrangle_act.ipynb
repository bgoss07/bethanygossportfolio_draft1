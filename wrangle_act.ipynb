{
 "cells": [
  {
   "cell_type": "markdown",
   "metadata": {
    "extensions": {
     "jupyter_dashboards": {
      "version": 1,
      "views": {
       "grid_default": {
        "col": 0,
        "height": 4,
        "hidden": false,
        "row": 0,
        "width": 4
       },
       "report_default": {
        "hidden": false
       }
      }
     }
    }
   },
   "source": [
    "# Project: Wrangling and Analyze Data"
   ]
  },
  {
   "cell_type": "code",
   "execution_count": 1,
   "metadata": {},
   "outputs": [],
   "source": [
    "#importing packages\n",
    "import pandas as pd\n",
    "import numpy as np\n",
    "import requests\n",
    "import tweepy\n",
    "from tweepy import OAuthHandler\n",
    "import json\n",
    "from timeit import default_timer as timer\n",
    "import matplotlib.pyplot as plt\n",
    "from PIL import Image\n",
    "from io import BytesIO\n",
    "import seaborn as sns"
   ]
  },
  {
   "cell_type": "markdown",
   "metadata": {},
   "source": [
    "## Data Gathering\n",
    "In the cell below, gather **all** three pieces of data for this project and load them in the notebook. **Note:** the methods required to gather each data are different.\n",
    "1. Directly download the WeRateDogs Twitter archive data (twitter_archive_enhanced.csv)"
   ]
  },
  {
   "cell_type": "code",
   "execution_count": 2,
   "metadata": {
    "extensions": {
     "jupyter_dashboards": {
      "version": 1,
      "views": {
       "grid_default": {
        "hidden": true
       },
       "report_default": {
        "hidden": true
       }
      }
     }
    }
   },
   "outputs": [],
   "source": [
    "ratingDogsDF=pd.read_csv(\"twitter_archive_enhanced.csv\")\n",
    "#ratingDogsDF[ratingDogsDF.pupper!=\"None\"]"
   ]
  },
  {
   "cell_type": "markdown",
   "metadata": {},
   "source": [
    "2. Use the Requests library to download the tweet image prediction (image_predictions.tsv)"
   ]
  },
  {
   "cell_type": "code",
   "execution_count": 3,
   "metadata": {},
   "outputs": [],
   "source": [
    "imageTSV=requests.get('https://d17h27t6h515a5.cloudfront.net/topher/2017/August/599fd2ad_image-predictions/image-predictions.tsv')\n",
    "with open('image_predictions.tsv', 'w') as file: \n",
    "\tfile.write(imageTSV.text)"
   ]
  },
  {
   "cell_type": "code",
   "execution_count": 4,
   "metadata": {},
   "outputs": [],
   "source": [
    "image_predict=pd.read_csv('image_predictions.tsv', sep='\\t')"
   ]
  },
  {
   "cell_type": "markdown",
   "metadata": {},
   "source": [
    "3. Use the Tweepy library to query additional data via the Twitter API (tweet_json.txt)"
   ]
  },
  {
   "cell_type": "code",
   "execution_count": 5,
   "metadata": {},
   "outputs": [],
   "source": [
    "# Query Twitter API for each tweet in the Twitter archive and save JSON in a text file\n",
    "#consumer_key = 'HIDDEN'\n",
    "#consumer_secret = 'HIDDEN'\n",
    "#access_token = 'HIDDEN'\n",
    "#access_secret = 'HIDDEN'\n",
    "\n",
    "#auth = tweepy.OAuthHandler(consumer_key, consumer_secret)\n",
    "#auth.set_access_token(access_token, access_secret)\n",
    "\n",
    "#api = tweepy.API(auth, wait_on_rate_limit=True)\n",
    "\n",
    "# Tweet IDs for which to gather additional data via Twitter's API\n",
    "#tweet_ids = ratingDogsDF.tweet_id.values\n",
    "#len(tweet_ids)\n",
    "\n",
    "# Query Twitter's API for JSON data for each tweet ID in the Twitter archive\n",
    "#count = 0\n",
    "#fails_dict = {}\n",
    "#start = timer()\n",
    "# Save each tweet's returned JSON as a new line in a .txt file\n",
    "#with open('tweet_json.txt', 'w') as outfile:\n",
    "    # This loop will likely take 20-30 minutes to run because of Twitter's rate limit\n",
    "#    for tweet_id in tweet_ids:\n",
    "#        count += 1\n",
    "#        print(str(count) + \": \" + str(tweet_id))\n",
    "#        try:\n",
    "#            tweet = api.get_status(tweet_id, tweet_mode='extended')\n",
    "#            print(\"Success\")\n",
    "#            json.dump(tweet._json, outfile)\n",
    "#            outfile.write('\\n')\n",
    "#        except tweepy.TweepError as e:\n",
    "#            print(\"Fail\")\n",
    "#           fails_dict[tweet_id] = e\n",
    "#            pass\n",
    "#end = timer()\n",
    "#print(end - start)\n",
    "#print(fails_dict)"
   ]
  },
  {
   "cell_type": "markdown",
   "metadata": {
    "extensions": {
     "jupyter_dashboards": {
      "version": 1,
      "views": {
       "grid_default": {
        "col": 4,
        "height": 4,
        "hidden": false,
        "row": 28,
        "width": 4
       },
       "report_default": {
        "hidden": false
       }
      }
     }
    }
   },
   "source": [
    "## Assessing Data\n",
    "In this section, detect and document at least **eight (8) quality issues and two (2) tidiness issue**. You must use **both** visual assessment\n",
    "programmatic assessement to assess the data.\n",
    "\n",
    "**Note:** pay attention to the following key points when you access the data.\n",
    "\n",
    "* You only want original ratings (no retweets) that have images. Though there are 5000+ tweets in the dataset, not all are dog ratings and some are retweets.\n",
    "* Assessing and cleaning the entire dataset completely would require a lot of time, and is not necessary to practice and demonstrate your skills in data wrangling. Therefore, the requirements of this project are only to assess and clean at least 8 quality issues and at least 2 tidiness issues in this dataset.\n",
    "* The fact that the rating numerators are greater than the denominators does not need to be cleaned. This [unique rating system](http://knowyourmeme.com/memes/theyre-good-dogs-brent) is a big part of the popularity of WeRateDogs.\n",
    "* You do not need to gather the tweets beyond August 1st, 2017. You can, but note that you won't be able to gather the image predictions for these tweets since you don't have access to the algorithm used.\n",
    "\n"
   ]
  },
  {
   "cell_type": "code",
   "execution_count": 6,
   "metadata": {
    "scrolled": false
   },
   "outputs": [
    {
     "data": {
      "text/html": [
       "<div>\n",
       "<style scoped>\n",
       "    .dataframe tbody tr th:only-of-type {\n",
       "        vertical-align: middle;\n",
       "    }\n",
       "\n",
       "    .dataframe tbody tr th {\n",
       "        vertical-align: top;\n",
       "    }\n",
       "\n",
       "    .dataframe thead th {\n",
       "        text-align: right;\n",
       "    }\n",
       "</style>\n",
       "<table border=\"1\" class=\"dataframe\">\n",
       "  <thead>\n",
       "    <tr style=\"text-align: right;\">\n",
       "      <th></th>\n",
       "      <th>tweet_id</th>\n",
       "      <th>in_reply_to_status_id</th>\n",
       "      <th>in_reply_to_user_id</th>\n",
       "      <th>timestamp</th>\n",
       "      <th>source</th>\n",
       "      <th>text</th>\n",
       "      <th>retweeted_status_id</th>\n",
       "      <th>retweeted_status_user_id</th>\n",
       "      <th>retweeted_status_timestamp</th>\n",
       "      <th>expanded_urls</th>\n",
       "      <th>rating_numerator</th>\n",
       "      <th>rating_denominator</th>\n",
       "      <th>name</th>\n",
       "      <th>doggo</th>\n",
       "      <th>floofer</th>\n",
       "      <th>pupper</th>\n",
       "      <th>puppo</th>\n",
       "    </tr>\n",
       "  </thead>\n",
       "  <tbody>\n",
       "  </tbody>\n",
       "</table>\n",
       "</div>"
      ],
      "text/plain": [
       "Empty DataFrame\n",
       "Columns: [tweet_id, in_reply_to_status_id, in_reply_to_user_id, timestamp, source, text, retweeted_status_id, retweeted_status_user_id, retweeted_status_timestamp, expanded_urls, rating_numerator, rating_denominator, name, doggo, floofer, pupper, puppo]\n",
       "Index: []"
      ]
     },
     "execution_count": 6,
     "metadata": {},
     "output_type": "execute_result"
    }
   ],
   "source": [
    "ratingDogsDF.tweet_id.duplicated().value_counts() #checking to see if there are any duplicated tweets\n",
    "ratingDogsDF[ratingDogsDF.rating_denominator.isna()==True] #checking to make sure there is a denominator"
   ]
  },
  {
   "cell_type": "code",
   "execution_count": 7,
   "metadata": {
    "scrolled": true
   },
   "outputs": [
    {
     "data": {
      "text/plain": [
       "320    https://pbs.twimg.com/tweet_video_thumb/CVKtH-...\n",
       "815    https://pbs.twimg.com/tweet_video_thumb/CZ0mhd...\n",
       "Name: jpg_url, dtype: object"
      ]
     },
     "execution_count": 7,
     "metadata": {},
     "output_type": "execute_result"
    }
   ],
   "source": [
    "image_predict.jpg_url[image_predict.jpg_url.str.endswith('.jpg')== False] #checking to make sure the syntax for the urls is consistent"
   ]
  },
  {
   "cell_type": "code",
   "execution_count": 8,
   "metadata": {},
   "outputs": [],
   "source": [
    "#creating a dataframe by importing the file created from the api data\n",
    "tweet_df = pd.DataFrame(columns=['tweet_id', 'retweet_count', 'favorite_count'])\n",
    "with open('tweet_json.txt') as f:\n",
    "    for line in f:\n",
    "        status  = json.loads(line)\n",
    "        tweet_id = status['id_str']\n",
    "        retweet_count = status['retweet_count']\n",
    "        favorite_count = status['favorite_count']\n",
    "        tweet_df = tweet_df.append(pd.DataFrame([[tweet_id, retweet_count, favorite_count]],\n",
    "                                        columns=['tweet_id', 'retweet_count', 'favorite_count']))\n",
    "tweet_df = tweet_df.reset_index(drop=True)"
   ]
  },
  {
   "cell_type": "code",
   "execution_count": 9,
   "metadata": {
    "scrolled": true
   },
   "outputs": [
    {
     "name": "stdout",
     "output_type": "stream",
     "text": [
      "<class 'pandas.core.frame.DataFrame'>\n",
      "RangeIndex: 2328 entries, 0 to 2327\n",
      "Data columns (total 3 columns):\n",
      "tweet_id          2328 non-null object\n",
      "retweet_count     2328 non-null object\n",
      "favorite_count    2328 non-null object\n",
      "dtypes: object(3)\n",
      "memory usage: 54.6+ KB\n"
     ]
    }
   ],
   "source": [
    "#checking to make sure the new dataframe was made correctly. \n",
    "tweet_df.head()\n",
    "tweet_df.info()#2328"
   ]
  },
  {
   "cell_type": "markdown",
   "metadata": {},
   "source": [
    "### Quality issues\n",
    "1. For ratingDogsDf, Some of the 'name' objects aren't actually names\n",
    "\n",
    "2. For image_predict, there are inconsistent or non-existent dog breeds in p1, p2 and p3\n",
    "\n",
    "3. For ratingDogsDF,  the rating_numerator and rating_denominator columns should be a float. \n",
    "\n",
    "4. For image_predict, two of the jpg_urls are incomplete (endswith (...))\n",
    "\n",
    "5. For ratingDogsDF, retweeted_status.timestamp and timestamp are objects and should not be \n",
    "\n",
    "6. For ratingDogsDF, retweets and replies are not necessary for our examination. \n",
    "\n",
    "7. The remaining IDs should all be qualitative\n",
    "\n",
    "8. For ratingDogsDF, we will get rid of \"None\" values in the doggo - puppo columns and replace with null, then melt the columns together. "
   ]
  },
  {
   "cell_type": "markdown",
   "metadata": {
    "extensions": {
     "jupyter_dashboards": {
      "version": 1,
      "views": {
       "grid_default": {
        "col": 0,
        "height": 7,
        "hidden": false,
        "row": 40,
        "width": 12
       },
       "report_default": {
        "hidden": false
       }
      }
     }
    }
   },
   "source": [
    "### Tidiness issues\n",
    "9. There are a lot of null values in rd_df columns doggo, floofer, puppo, and pupper.\n",
    "\n",
    "10. Merge data frames on shared tweet_ids."
   ]
  },
  {
   "cell_type": "markdown",
   "metadata": {
    "extensions": {
     "jupyter_dashboards": {
      "version": 1,
      "views": {
       "grid_default": {
        "col": 4,
        "height": 4,
        "hidden": false,
        "row": 32,
        "width": 4
       },
       "report_default": {
        "hidden": false
       }
      }
     }
    }
   },
   "source": [
    "## Cleaning Data\n",
    "In this section, clean **all** of the issues you documented while assessing. \n",
    "\n",
    "**Note:** Make a copy of the original data before cleaning. Cleaning includes merging individual pieces of data according to the rules of [tidy data](https://cran.r-project.org/web/packages/tidyr/vignettes/tidy-data.html). The result should be a high-quality and tidy master pandas DataFrame (or DataFrames, if appropriate)."
   ]
  },
  {
   "cell_type": "code",
   "execution_count": 10,
   "metadata": {},
   "outputs": [],
   "source": [
    "# Make copies of original pieces of data\n",
    "rd_df=ratingDogsDF.copy()\n",
    "ip_df=image_predict.copy()\n",
    "tt_df=tweet_df.copy()"
   ]
  },
  {
   "cell_type": "markdown",
   "metadata": {},
   "source": [
    "### Issue #1: Some of the 'name' objects aren't actually names in rd_df."
   ]
  },
  {
   "cell_type": "markdown",
   "metadata": {},
   "source": [
    "#### Define: Replace values where text is not a name. "
   ]
  },
  {
   "cell_type": "markdown",
   "metadata": {},
   "source": [
    "#### Code"
   ]
  },
  {
   "cell_type": "code",
   "execution_count": 11,
   "metadata": {},
   "outputs": [],
   "source": [
    "#creating a list of words that need to go then replacing them with None values. \n",
    "not_dog_names=[\"\", 'a','an','the', 'very', 'unacceptable', 'this', 'such', 'quite', 'one', 'old', 'officially', 'not', 'my', 'mad', 'light', 'life', 'just', 'space', 'infuriating', 'incredible', 'incredibly', 'his', 'getting', 'by', 'all', 'actually']\n",
    "rd_df.name.replace(not_dog_names, None, inplace=True)"
   ]
  },
  {
   "cell_type": "code",
   "execution_count": 12,
   "metadata": {
    "scrolled": true
   },
   "outputs": [
    {
     "data": {
      "text/plain": [
       "['Abby',\n",
       " 'Abby',\n",
       " 'Ace',\n",
       " 'Acro',\n",
       " 'Adele',\n",
       " 'Aiden',\n",
       " 'Aja',\n",
       " 'Akumi',\n",
       " 'Al',\n",
       " 'Albert',\n",
       " 'Albert',\n",
       " 'Albert',\n",
       " 'Albus',\n",
       " 'Albus',\n",
       " 'Aldrick',\n",
       " 'Alejandro',\n",
       " 'Alexander',\n",
       " 'Alexanderson',\n",
       " 'Alf',\n",
       " 'Alfie']"
      ]
     },
     "execution_count": 12,
     "metadata": {},
     "output_type": "execute_result"
    }
   ],
   "source": [
    "#checking to see if I've missed any\n",
    "list(rd_df.name.sort_values())[:20]"
   ]
  },
  {
   "cell_type": "markdown",
   "metadata": {},
   "source": [
    "#### Test"
   ]
  },
  {
   "cell_type": "code",
   "execution_count": 13,
   "metadata": {},
   "outputs": [
    {
     "data": {
      "text/plain": [
       "['None',\n",
       " 'Oliver',\n",
       " 'Charlie',\n",
       " 'Cooper',\n",
       " 'Lucy',\n",
       " 'Tucker',\n",
       " 'Lola',\n",
       " 'Penny',\n",
       " 'Bo',\n",
       " 'Winston',\n",
       " 'Sadie',\n",
       " 'Daisy',\n",
       " 'Buddy',\n",
       " 'Dave',\n",
       " 'Stanley',\n",
       " 'Toby',\n",
       " 'Bailey',\n",
       " 'Scout',\n",
       " 'Koda',\n",
       " 'Bella']"
      ]
     },
     "execution_count": 13,
     "metadata": {},
     "output_type": "execute_result"
    }
   ],
   "source": [
    "#final test to confirm replace worked\n",
    "list(dict(rd_df.name.value_counts()))[:20]"
   ]
  },
  {
   "cell_type": "markdown",
   "metadata": {},
   "source": [
    "### Issue #2: There are inconsistent or non-existent dog breeds in p1-p3 in ip_df"
   ]
  },
  {
   "cell_type": "markdown",
   "metadata": {
    "collapsed": true,
    "extensions": {
     "jupyter_dashboards": {
      "version": 1,
      "views": {
       "grid_default": {
        "hidden": true
       },
       "report_default": {
        "hidden": true
       }
      }
     }
    }
   },
   "source": [
    "#### Define:  In ip_df there are dog breeds that don't exist or are in an inconsistent format. We will dismiss these values"
   ]
  },
  {
   "cell_type": "markdown",
   "metadata": {},
   "source": [
    "#### Code"
   ]
  },
  {
   "cell_type": "code",
   "execution_count": 14,
   "metadata": {},
   "outputs": [],
   "source": [
    "#finding words that are not dogbreeds \n",
    "p1_dict=dict(ip_df.p1.value_counts())"
   ]
  },
  {
   "cell_type": "code",
   "execution_count": 15,
   "metadata": {},
   "outputs": [],
   "source": [
    "p2_dict=dict(ip_df.p2.value_counts())"
   ]
  },
  {
   "cell_type": "code",
   "execution_count": 16,
   "metadata": {},
   "outputs": [],
   "source": [
    "p3_dict=dict(ip_df.p3.value_counts())"
   ]
  },
  {
   "cell_type": "code",
   "execution_count": 17,
   "metadata": {},
   "outputs": [],
   "source": [
    "#the dictionary of not dogbreeds from the above dictionaries\n",
    "not_dog_breeds={'kelpie': 35, 'doormat': 16, 'seat_belt': 15, 'dingo': 15, 'Siamese_cat': 12, 'white_wolf': 10, 'toilet_tissue': 7, 'bathtub': 7, 'ice_bear': 6, 'muzzle': 6, 'tennis_ball': 5, 'water_buffalo': 5, 'bath_towel': 5, 'sandbar': 5, 'hog': 5, 'Persian_cat': 5, 'Arctic_fox': 5, 'black_footed_ferret': 5, 'weasel': 5, 'paper_towel': 4, 'sea_lion': 4, 'quilt': 4, 'television': 4, 'wallaby': 4, 'three_toed_sloth': 4, 'sombrero': 4, 'ice_lolly': 4, 'fountain': 4, 'swing': 4, 'fur_coat': 4, 'printer': 3, 'microwave': 3, 'scuba_diver': 3, 'tub': 3, 'gibbon': 3, 'racket': 3, 'menu': 3, 'echidna': 3, 'sundial': 3, 'bubble': 3, 'carton': 3, 'koala': 3, 'bagel': 3, 'ski_mask': 3, 'purse': 3, 'hamster': 3, 'crane': 3, 'bookcase': 3, 'limousine': 3, 'Arabian_camel': 3, 'sunglasses': 3, 'box_turtle': 3, 'pillow': 3, 'guinea_pig': 3, 'umbrella': 3, 'polecat': 3, 'macaque': 3, 'shower_curtain': 3, 'wood_rabbit': 3, 'wool': 3, 'cougar': 2, 'common_iguana': 2, 'snow_leopard': 2, 'shopping_cart': 2, 'king_penguin': 2, 'bassinet': 2, 'Egyptian_cat': 2, 'brass': 2, 'llama': 2, 'file': 2, 'space_heater': 2, 'washbasin': 2, 'Christmas_stocking': 2, 'mouse': 2, 'agama': 2, 'bucket': 2, 'pizza': 2, 'prison': 2, 'convertible': 2, 'French_loaf': 2, 'beacon': 2, 'hen': 2, 'car_wheel': 2, 'bolete': 2, 'komondor': 2, 'refrigerator': 2, 'book_jacket': 2, 'coyote': 2, 'ram': 2, 'leafhopper': 2, 'swab': 2, 'paddlewheel': 2, 'badger': 2, 'bathing_cap': 2, 'giant_panda': 2, 'Angora': 2, 'beaver': 2, 'sliding_door': 2, 'shopping_basket': 2, 'jigsaw_puzzle': 2, 'abaya': 2, 'ashcan': 2, 'mask': 2, 'mousetrap': 2, 'titi': 2, 'bison': 2, 'squirrel_monkey': 2, 'warthog': 2, 'Bouvier_des_Flandres': 2, 'envelope': 2, 'lumbermill': 2, 'feather_boa': 2, 'toilet_seat': 2, 'hippopotamus': 2, 'minibus': 2, 'terrapin': 2, 'poncho': 2, 'wreck': 2, 'lakeside': 2, 'wig': 2, 'panpipe': 1, 'maraca': 1, 'conch': 1, 'viaduct': 1, 'can_opener': 1, 'hand_blower': 1, 'grocery_store': 1, 'goose': 1, 'loupe': 1, 'red_wolf': 1, 'traffic_light': 1, 'lampshade': 1, 'chime': 1, 'mink': 1, 'zebra': 1, 'parachute': 1, 'Indian_elephant': 1, 'sea_cucumber': 1, 'padlock': 1, 'switch': 1, 'goldfish': 1, 'snail': 1, 'entertainment_center': 1, 'assault_rifle': 1, 'European_fire_salamander': 1, 'power_drill': 1, 'whiptail': 1, 'bow_tie': 1, 'barbell': 1, 'American_black_bear': 1, 'toyshop': 1, 'plunger': 1, 'broccoli': 1, 'greenhouse': 1, 'rock_crab': 1, 'space_shuttle': 1, 'wombat': 1, 'bow': 1, 'chain': 1, 'plastic_bag': 1, 'otter': 1, 'eel': 1, 'rotisserie': 1, 'barrow': 1, 'paintbrush': 1, 'rapeseed': 1, 'vacuum': 1, 'joystick': 1, 'wolf_spider': 1, 'boathouse': 1, 'ballplayer': 1, 'shoji': 1, 'African_chameleon': 1, 'go-kart': 1, 'bonnet': 1, 'drumstick': 1, 'wild_boar': 1, 'Windsor_tie': 1, 'cheetah': 1, 'rain_barrel': 1, 'cliff': 1, 'hand-held_computer': 1, 'croquet_ball': 1, 'wallet': 1, 'lion': 1, 'golfcart': 1, 'quill': 1, 'chimpanzee': 1, 'valley': 1, 'notebook': 1, 'bannister': 1, 'common_newt': 1, 'mosquito_net': 1, 'maze': 1, 'tiger_cat': 1, 'beach_wagon': 1, 'electric_fan': 1, 'chest': 1, 'window_screen': 1, 'jersey': 1, 'sunglass': 1, 'rhinoceros_beetle': 1, 'soccer_ball': 1, 'cowboy_boot': 1, 'Band_Aid': 1, 'mitten': 1, 'cuirass': 1, 'passenger_car': 1, 'canoe': 1, 'pajama': 1, 'partridge': 1, 'French_horn': 1, 'theater_curtain': 1, 'crayfish': 1, 'loggerhead': 1, 'axolotl': 1, 'moped': 1, 'grey_fox': 1, 'mushroom': 1, 'gar': 1, 'coffeepot': 1, 'marmot': 1, 'prairie_chicken': 1, 'buckeye': 1, 'black_swan': 1, 'green_lizard': 1, 'mountain_tent': 1, 'hare': 1, 'shower_cap': 1, 'mongoose': 1, 'coral_reef': 1, 'swimming_trunks': 1, 'pier': 1, 'bib': 1, 'acorn': 1, 'seashore': 1, 'grand_piano': 1, 'cab': 1, 'cardoon': 1, 'gorilla': 1, 'crossword_puzzle': 1, 'oxcart': 1, 'orangutan': 1, 'meerkat': 1, 'pool_table': 1, 'tripod': 1, 'consomme': 1, 'cloak': 1, 'screen': 1, 'ox': 1, 'kimono': 1, 'bullfrog': 1, 'jeep': 1, 'pretzel': 1, 'snorkel': 1, 'guillotine': 1, 'binder': 1, 'pickup': 1, 'nail': 1, 'chickadee': 1, 'hammerhead': 1, 'hatchet': 1, 'stinkhorn': 1, 'screw': 1, 'nipple': 1, 'barber_chair': 1, 'neck_brace': 1, 'wok': 1, 'bell_cote': 1, 'desktop_computer': 1, 'African_grey': 1, 'soap_dispenser': 1, 'pop_bottle': 1, 'banana': 1, 'shovel': 1, 'brown_bear': 1, 'ibex': 1, 'cup': 1, 'dugong': 1, 'pot': 1, 'steam_locomotive': 1, 'oscilloscope': 1, 'spatula': 1, 'park_bench': 1, 'balance_beam': 1, 'restaurant': 1, 'parallel_bars': 1, 'great_grey_owl': 1, 'wing': 1, 'jaguar': 1, 'rifle': 1, 'bulletproof_vest': 1, 'triceratops': 1, 'hamster': 6, 'guinea_pig': 6, 'llama': 6, 'sunglasses': 5, 'tub': 5, 'mink': 4, 'Arctic_fox': 4, 'dishwasher': 4, 'muzzle': 4, 'badger': 4, 'studio_couch': 4, 'window_screen': 4, 'skunk': 4, 'ram': 4, 'koala': 4, 'Arabian_camel': 4, 'shopping_basket': 3, 'monitor': 3, 'fur_coat': 3, 'Christmas_stocking': 3, 'Indian_elephant': 3, 'carton': 3, 'meerkat': 3, 'oscilloscope': 3, 'swab': 3, 'lakeside': 3, 'fountain': 3, 'cash_machine': 3, 'feather_boa': 3, 'American_black_bear': 3, 'beach_wagon': 3, 'toilet_seat': 3, 'paddle': 3, 'envelope': 3,'hen': 3, 'American_alligator': 2, 'tow_truck': 2, 'mongoose': 2, 'ox': 2, 'bakery': 2, 'barrel': 2, 'gorilla': 2, 'sleeping_bag': 2, 'frilled_lizard': 2, 'prison': 2, 'goldfish': 2, 'plow': 2, 'terrapin': 2, 'rhinoceros_beetle': 2, 'bow_tie': 2, 'four-poster': 2, 'marmot': 2, 'entertainment_center': 2, 'toyshop': 2, 'wallet': 2, 'palace': 2, 'radiator': 2, 'rotisserie': 2, 'punching_bag': 2, 'black_widow': 2, 'chain_saw': 2, 'sports_car': 2, 'harvester': 2, 'orange': 2, 'pillow': 2, 'minivan': 2, 'gibbon': 2, 'cock': 2, 'bighorn': 2, 'loggerhead': 2, 'mask': 2, 'quill': 2, 'bison': 2, 'slug': 2, 'tabby': 2, 'corn': 2, 'beaver': 2, 'crossword_puzzle': 2, 'tailed_frog': 2, 'wig': 2, 'binoculars': 2, 'jean': 2, 'house_finch': 2, 'hare': 2, 'jaguar': 2, 'prayer_rug': 2, 'warthog': 2, 'swing': 2, 'macaque': 2, 'great_white_shark': 2, 'cup': 2, 'washbasin': 1, 'hummingbird': 1, 'common_newt': 1, 'assault_rifle': 1, 'drake': 1, 'sunglass': 1, 'trench_coat': 1, 'neck_brace': 1, 'waffle_iron': 1, 'spotlight': 1, 'leafhopper': 1, 'crib': 1, 'space_heater': 1, 'horse_cart': 1, 'tick': 1, 'water_bottle': 1, 'racket': 1, 'pickup': 1, 'hand-held_computer': 1, 'shoji': 1, 'rule': 1, 'saltshaker': 1, 'chimpanzee': 1, 'snorkel': 1, 'bannister': 1, 'web_site': 1, 'printer': 1, 'toucan': 1, 'boathouse': 1, 'dumbbell': 1, 'hamper': 1, 'handkerchief': 1, 'menu': 1, 'otter': 1, 'cab': 1, 'sweatshirt': 1, 'komondor': 1, 'spindle': 1, 'breakwater': 1, 'hotdog': 1, 'mailbox': 1, 'knee_pad': 1, 'necklace': 1, 'patio': 1, 'tarantula': 1, 'sock': 1, 'wombat': 1, 'tiger': 1, 'bow': 1, 'coffee_mug': 1, 'comic_book': 1, 'cowboy_hat': 1, 'lifeboat': 1, 'goose': 1, 'cornet': 1, 'lampshade': 1, 'stingray': 1, 'sandal': 1, 'bathing_cap': 1, 'European_gallinule': 1, 'seashore': 1, 'can_opener': 1, 'siamang': 1, 'wood_rabbit': 1, 'ice_lolly': 1, 'lesser_panda': 1, 'triceratops': 1, 'polecat': 1, 'umbrella': 1, 'window_shade': 1, 'barracouta': 1, 'pier': 1, 'armadillo': 1, 'hay': 1, 'mud_turtle': 1, 'spatula': 1, 'laptop': 1, 'bearskin': 1, 'cloak': 1, 'crutch': 1, 'grey_fox': 1, 'canoe': 1, 'table_lamp': 1, 'soccer_ball': 1, 'desk': 1, 'home_theater': 1, 'pelican': 1, 'academic_gown': 1, 'hyena': 1, 'red_fox': 1, 'crate': 1, 'grey_whale': 1, 'snail': 1, 'stove': 1, 'mashed_potato': 1, 'moped': 1, 'barbershop': 1, 'iPod': 1, 'cliff': 1, 'snowmobile': 1, 'rain_barrel': 1, 'basketball': 1, 'volcano': 1, 'tray': 1, 'sliding_door': 1, 'jigsaw_puzzle': 1, 'quail': 1, 'Windsor_tie': 1, 'ashcan': 1, 'medicine_chest': 1, 'turnstile': 1, 'timber_wolf': 1, 'china_cabinet': 1, 'lawn_mower': 1, 'porcupine': 1, 'maillot': 1, 'accordion': 1, 'minibus': 1, 'oxygen_mask': 1, 'birdhouse': 1, 'folding_chair': 1, 'peacock': 1, 'tree_frog': 1, 'solar_dish': 1, 'spotted_salamander': 1, 'promontory': 1, 'streetcar': 1, 'dock': 1, 'coral_fungus': 1, 'platypus': 1, 'sea_urchin': 1, 'confectionery': 1, 'sulphur_butterfly': 1, 'shovel': 1, 'indri': 1, 'nail': 1, 'chain_mail': 1, 'torch': 1, 'toaster': 1, 'dugong': 1, 'banded_gecko': 1, 'bucket': 1, 'killer_whale': 1, 'dam': 1, 'cockroach': 1, 'rifle': 1, 'cardigan': 1, 'hair_slide': 1, 'dining_table': 1, 'brown_bear': 1, 'cowboy_boot': 1, 'apron': 1, 'cannon': 1, 'projectile': 1, 'bobsled': 1, 'purse': 1, 'bib': 1, 'mosquito_net': 1, 'police_van': 1, 'coral_reef': 1, 'screw': 1, 'breastplate': 1,  'hair_spray': 1, 'hatchet': 1, 'shower_cap': 1, 'computer_keyboard': 1, 'cougar': 1, 'cradle': 1, 'shopping_cart': 1, 'Gila_monster': 1, 'Madagascar_cat': 1, 'bagel': 1, 'shower_curtain': 1, 'junco': 1, 'sarong': 1, 'lighter': 1, 'giant_panda': 1, 'web_site': 19, 'tub': 7, 'swing': 7, 'hamster': 7, 'llama': 6, 'home_theater': 6, 'car_mirror': 6, 'porcupine': 5, 'hippopotamus': 5, 'minivan': 5, 'shopping_cart': 5, 'ox': 5, 'jigsaw_puzzle': 4, 'patio': 4, 'goose': 4, 'wombat': 4, 'guinea_pig': 4, 'bow_tie': 4, 'brown_bear': 4, 'barrow': 4, 'Arabian_camel': 3, 'cowboy_hat': 3, 'triceratops': 3, 'mousetrap': 3, 'refrigerator': 3, 'ram': 3, 'Christmas_stocking': 3, 'seashore': 3, 'ski_mask': 3, 'common_iguana': 3, 'space_heater': 3, \"jack-o'-lantern\": 3, 'prison': 3, 'vacuum': 3, 'window_shade': 3, 'washbasin': 3, 'comic_book': 3, 'stone_wall': 3, 'dishwasher': 3, 'balloon': 3, 'wood_rabbit': 3, 'motor_scooter': 3, 'gondola': 2, 'gas_pump': 2, 'street_sign': 2, 'acorn_squash': 2, 'ostrich': 2, 'bustard': 2, 'shower_curtain': 2, 'jellyfish': 2, 'feather_boa': 2, 'leatherback_turtle': 2, 'lakeside': 2, 'sorrel': 2, 'tabby': 2, 'chimpanzee': 2, 'snail': 2, 'box_turtle': 2, 'toyshop': 2, 'laptop': 2, 'axolotl': 2, 'meerkat': 2, 'hen': 2, 'dough': 2, 'snorkel': 2, 'birdhouse': 2, 'paddle': 2, 'hermit_crab': 2, 'Loafer': 2, 'wool': 2, 'bubble': 2, 'upright': 2, 'geyser': 2, 'koala': 2, 'frilled_lizard': 2, 'cash_machine': 2, 'Angora': 2, 'tusker': 2, 'hyena': 2, 'badger': 2, 'dogsled': 2, 'boathouse': 1, 'harp': 1, 'bookshop': 1, 'coral_reef': 1,'military_uniform': 1, 'tailed_frog': 1, 'sundial': 1, 'sunglasses': 1, 'bighorn': 1, 'handkerchief': 1, 'bald_eagle': 1, 'cougar': 1, 'envelope': 1, 'lacewing': 1, 'shield': 1, 'revolver': 1, 'bow': 1, 'hare': 1, 'earthstar': 1, 'peacock': 1, 'hummingbird': 1, 'damselfly': 1, 'starfish': 1, 'ping-pong_ball': 1, 'maze': 1, 'tiger_shark': 1, 'beach_wagon': 1,'hotdog': 1, 'rapeseed': 1, 'electric_fan': 1, 'rotisserie': 1, 'agama': 1, 'canoe': 1, 'water_bottle': 1, 'otter': 1, 'bookcase': 1, 'jersey': 1, 'flamingo': 1, 'lorikeet': 1, 'Egyptian_cat': 1, 'barbell': 1, 'traffic_light': 1,'bannister': 1, 'soccer_ball': 1, 'panpipe': 1, 'ocarina': 1, 'shopping_basket': 1, 'mortarboard': 1, 'lion': 1, 'lawn_mower': 1, 'prayer_rug': 1, 'fiddler_crab': 1, 'bakery': 1, 'grey_fox': 1, 'piggy_bank': 1, 'bonnet': 1, 'carton': 1, 'marmot': 1, 'coffee_mug': 1, 'robin': 1, 'long-horned_beetle': 1, 'school_bus': 1, 'timber_wolf': 1, 'china_cabinet': 1, 'binoculars': 1, 'cowboy_boot': 1, 'maillot': 1, 'cheeseburger': 1, 'minibus': 1, 'lynx': 1, 'cliff': 1, 'book_jacket': 1, 'espresso': 1, 'banana': 1, 'ibex': 1, 'zebra': 1, 'conch': 1, 'teapot': 1, 'sliding_door': 1, 'carousel': 1, 'pillow': 1, 'crane':1, 'picket_fence':1, 'trombone':1}"
   ]
  },
  {
   "cell_type": "code",
   "execution_count": 18,
   "metadata": {},
   "outputs": [],
   "source": [
    "#put all the key of the above dictionary in a list\n",
    "first_list=[]\n",
    "for i in not_dog_breeds:\n",
    "    first_list.append(i)\n",
    "remove_from_df=[]\n",
    "for i in first_list:\n",
    "    if i not in remove_from_df:\n",
    "        remove_from_df.append(i)"
   ]
  },
  {
   "cell_type": "code",
   "execution_count": 19,
   "metadata": {},
   "outputs": [],
   "source": [
    "#replacing the not dog breeds with a None value\n",
    "ip_df.p1.replace(remove_from_df, None, inplace=True)\n",
    "ip_df.p2.replace(remove_from_df, None, inplace=True)\n",
    "ip_df.p3.replace(remove_from_df, None, inplace= True)"
   ]
  },
  {
   "cell_type": "code",
   "execution_count": 20,
   "metadata": {},
   "outputs": [],
   "source": [
    "#using regex to find all \"-\" and replacing it with \"_\" to ensure consistent syntax\n",
    "ip_df.p1.replace(\"-\", \"_\", inplace=True, regex=True) \n",
    "ip_df.p2.replace(\"-\", \"_\", inplace=True, regex=True)\n",
    "ip_df.p3.replace(\"-\", \"_\", inplace=True, regex=True)"
   ]
  },
  {
   "cell_type": "code",
   "execution_count": 21,
   "metadata": {},
   "outputs": [],
   "source": [
    "#also making a consistent syntax\n",
    "ip_df.p1=ip_df.p1.str.capitalize()\n",
    "ip_df.p2=ip_df.p2.str.capitalize()\n",
    "ip_df.p3=ip_df.p3.str.capitalize()"
   ]
  },
  {
   "cell_type": "markdown",
   "metadata": {},
   "source": [
    "#### Test"
   ]
  },
  {
   "cell_type": "code",
   "execution_count": 22,
   "metadata": {},
   "outputs": [
    {
     "data": {
      "text/plain": [
       "(['Golden_retriever',\n",
       "  'Labrador_retriever',\n",
       "  'Pembroke',\n",
       "  'Chihuahua',\n",
       "  'Pug',\n",
       "  'Chow',\n",
       "  'Samoyed',\n",
       "  'Toy_poodle',\n",
       "  'Pomeranian',\n",
       "  'Malamute'],\n",
       " ['Labrador_retriever',\n",
       "  'Golden_retriever',\n",
       "  'Cardigan',\n",
       "  'Chihuahua',\n",
       "  'Pomeranian',\n",
       "  'French_bulldog',\n",
       "  'Chesapeake_bay_retriever',\n",
       "  'Toy_poodle',\n",
       "  'Cocker_spaniel',\n",
       "  'Miniature_poodle'],\n",
       " ['Labrador_retriever',\n",
       "  'Chihuahua',\n",
       "  'Golden_retriever',\n",
       "  'Eskimo_dog',\n",
       "  'Kuvasz',\n",
       "  'Staffordshire_bullterrier',\n",
       "  'Beagle',\n",
       "  'Pekinese',\n",
       "  'Pembroke',\n",
       "  'Chow'])"
      ]
     },
     "execution_count": 22,
     "metadata": {},
     "output_type": "execute_result"
    }
   ],
   "source": [
    "#looking over the new dictionarys to make sure all keys are capitalized and only have \"_\" between words\n",
    "p1_dict=dict(ip_df.p1.value_counts())\n",
    "p2_dict=dict(ip_df.p2.value_counts())\n",
    "p3_dict=dict(ip_df.p3.value_counts())\n",
    "list(p1_dict)[:10], list(p2_dict)[:10], list(p3_dict)[:10]"
   ]
  },
  {
   "cell_type": "markdown",
   "metadata": {},
   "source": [
    "## Issue #3: Rd_df numerator and denominators should be a float. "
   ]
  },
  {
   "cell_type": "markdown",
   "metadata": {},
   "source": [
    "#### Define: These values will be changed to a float type"
   ]
  },
  {
   "cell_type": "markdown",
   "metadata": {},
   "source": [
    "#### Code"
   ]
  },
  {
   "cell_type": "code",
   "execution_count": 23,
   "metadata": {},
   "outputs": [],
   "source": [
    "#changing type\n",
    "rd_df.rating_numerator=rd_df.rating_numerator.astype(float)\n",
    "rd_df.rating_denominator=rd_df.rating_denominator.astype(float)"
   ]
  },
  {
   "cell_type": "markdown",
   "metadata": {},
   "source": [
    "#### Test"
   ]
  },
  {
   "cell_type": "code",
   "execution_count": 24,
   "metadata": {},
   "outputs": [
    {
     "data": {
      "text/plain": [
       "(dtype('float64'), dtype('float64'))"
      ]
     },
     "execution_count": 24,
     "metadata": {},
     "output_type": "execute_result"
    }
   ],
   "source": [
    "rd_df.rating_numerator.dtypes, rd_df.rating_denominator.dtypes"
   ]
  },
  {
   "cell_type": "markdown",
   "metadata": {},
   "source": [
    "## Issue #4: Some of the jpg_urls in image_predict are incomplete"
   ]
  },
  {
   "cell_type": "markdown",
   "metadata": {},
   "source": [
    "#### Define: Because this code is corrupted and I don't have access to a verision that isn't (also there are only a few variables) I will be removing these rows. "
   ]
  },
  {
   "cell_type": "markdown",
   "metadata": {},
   "source": [
    "#### Code"
   ]
  },
  {
   "cell_type": "code",
   "execution_count": 25,
   "metadata": {},
   "outputs": [
    {
     "data": {
      "text/plain": [
       "320    https://pbs.twimg.com/tweet_video_thumb/CVKtH-...\n",
       "815    https://pbs.twimg.com/tweet_video_thumb/CZ0mhd...\n",
       "Name: jpg_url, dtype: object"
      ]
     },
     "execution_count": 25,
     "metadata": {},
     "output_type": "execute_result"
    }
   ],
   "source": [
    "#dropping the unfinished url\n",
    "ip_df.jpg_url[ip_df.jpg_url.str.endswith('.jpg')== False]"
   ]
  },
  {
   "cell_type": "code",
   "execution_count": 26,
   "metadata": {},
   "outputs": [],
   "source": [
    "ip_df.drop([320, 815], inplace=True)"
   ]
  },
  {
   "cell_type": "markdown",
   "metadata": {},
   "source": [
    "#### Test"
   ]
  },
  {
   "cell_type": "code",
   "execution_count": 27,
   "metadata": {},
   "outputs": [
    {
     "data": {
      "text/plain": [
       "Series([], Name: jpg_url, dtype: object)"
      ]
     },
     "execution_count": 27,
     "metadata": {},
     "output_type": "execute_result"
    }
   ],
   "source": [
    "ip_df.jpg_url[ip_df.jpg_url.str.endswith('.jpg')== False]"
   ]
  },
  {
   "cell_type": "markdown",
   "metadata": {},
   "source": [
    "## Issue #5: Timestamp dtypes are objects in ratingDogsDF"
   ]
  },
  {
   "cell_type": "markdown",
   "metadata": {},
   "source": [
    "#### Define: They should be timestamps"
   ]
  },
  {
   "cell_type": "markdown",
   "metadata": {},
   "source": [
    "#### Code"
   ]
  },
  {
   "cell_type": "code",
   "execution_count": 28,
   "metadata": {},
   "outputs": [],
   "source": [
    "#changing the dtype from an object to a tiemstamp\n",
    "rd_df.timestamp=pd.to_datetime(rd_df.timestamp, infer_datetime_format=True)\n",
    "rd_df.retweeted_status_timestamp=pd.to_datetime(rd_df.retweeted_status_timestamp, infer_datetime_format=True)"
   ]
  },
  {
   "cell_type": "markdown",
   "metadata": {},
   "source": [
    "#### Test"
   ]
  },
  {
   "cell_type": "code",
   "execution_count": 29,
   "metadata": {},
   "outputs": [
    {
     "data": {
      "text/plain": [
       "(dtype('<M8[ns]'), dtype('<M8[ns]'))"
      ]
     },
     "execution_count": 29,
     "metadata": {},
     "output_type": "execute_result"
    }
   ],
   "source": [
    "rd_df.timestamp.dtypes, rd_df.retweeted_status_timestamp.dtypes"
   ]
  },
  {
   "cell_type": "markdown",
   "metadata": {},
   "source": [
    "## Issue #6: Retweets and other rows in rd_df are not necessary for examination. "
   ]
  },
  {
   "cell_type": "markdown",
   "metadata": {},
   "source": [
    "#### Define: Create a list of indexes with the retweets in the rows and use that to drop those rows. Then drop unneeded columns. "
   ]
  },
  {
   "cell_type": "markdown",
   "metadata": {},
   "source": [
    "#### Code"
   ]
  },
  {
   "cell_type": "code",
   "execution_count": 30,
   "metadata": {},
   "outputs": [],
   "source": [
    "#making a more usuable dataframe by getting rid of data I won't be using\n",
    "index_retweets=rd_df.retweeted_status_id[rd_df.retweeted_status_id.notnull()==True].index\n",
    "rd_df.drop(index_retweets, inplace=True)"
   ]
  },
  {
   "cell_type": "code",
   "execution_count": 31,
   "metadata": {},
   "outputs": [],
   "source": [
    "dropping_rows=[\"in_reply_to_status_id\", \"in_reply_to_user_id\", \"retweeted_status_id\", \"retweeted_status_user_id\", \"retweeted_status_timestamp\", \"expanded_urls\"]\n",
    "rd_df.drop(dropping_rows, axis=1, inplace=True)"
   ]
  },
  {
   "cell_type": "markdown",
   "metadata": {},
   "source": [
    "#### Test"
   ]
  },
  {
   "cell_type": "code",
   "execution_count": 32,
   "metadata": {
    "scrolled": true
   },
   "outputs": [
    {
     "name": "stdout",
     "output_type": "stream",
     "text": [
      "<class 'pandas.core.frame.DataFrame'>\n",
      "Int64Index: 2175 entries, 0 to 2355\n",
      "Data columns (total 11 columns):\n",
      "tweet_id              2175 non-null int64\n",
      "timestamp             2175 non-null datetime64[ns]\n",
      "source                2175 non-null object\n",
      "text                  2175 non-null object\n",
      "rating_numerator      2175 non-null float64\n",
      "rating_denominator    2175 non-null float64\n",
      "name                  2175 non-null object\n",
      "doggo                 2175 non-null object\n",
      "floofer               2175 non-null object\n",
      "pupper                2175 non-null object\n",
      "puppo                 2175 non-null object\n",
      "dtypes: datetime64[ns](1), float64(2), int64(1), object(7)\n",
      "memory usage: 203.9+ KB\n"
     ]
    }
   ],
   "source": [
    "rd_df.info()"
   ]
  },
  {
   "cell_type": "markdown",
   "metadata": {},
   "source": [
    "## Issue #7: The remaining IDs should all be qualitative"
   ]
  },
  {
   "cell_type": "markdown",
   "metadata": {},
   "source": [
    "#### Define: Change the dtype to str"
   ]
  },
  {
   "cell_type": "markdown",
   "metadata": {},
   "source": [
    "#### Code"
   ]
  },
  {
   "cell_type": "code",
   "execution_count": 33,
   "metadata": {},
   "outputs": [],
   "source": [
    "#changing types to a str, tweet_id was already an object, but there are different kinds of objects in pandas so I included it\n",
    "rd_df.tweet_id=rd_df.tweet_id.astype(str)\n",
    "ip_df.tweet_id=ip_df.tweet_id.astype(str)\n",
    "tweet_df.tweet_id=tweet_df.tweet_id.astype(str)"
   ]
  },
  {
   "cell_type": "markdown",
   "metadata": {},
   "source": [
    "#### Test"
   ]
  },
  {
   "cell_type": "code",
   "execution_count": 34,
   "metadata": {},
   "outputs": [
    {
     "data": {
      "text/plain": [
       "(dtype('O'), dtype('O'), dtype('O'))"
      ]
     },
     "execution_count": 34,
     "metadata": {},
     "output_type": "execute_result"
    }
   ],
   "source": [
    "rd_df.tweet_id.dtypes, ip_df.tweet_id.dtypes, tweet_df.tweet_id.dtypes"
   ]
  },
  {
   "cell_type": "markdown",
   "metadata": {},
   "source": [
    "## Issue #8: For ratingDogsDF, we will get rid of \"None\" values in the doggo - puppo columns and replace an empty value."
   ]
  },
  {
   "cell_type": "markdown",
   "metadata": {},
   "source": [
    "#### Define: replace \"None\" with \"\"."
   ]
  },
  {
   "cell_type": "markdown",
   "metadata": {},
   "source": [
    "#### Code"
   ]
  },
  {
   "cell_type": "code",
   "execution_count": 35,
   "metadata": {},
   "outputs": [
    {
     "data": {
      "text/plain": [
       "(87, 10, 234, 25)"
      ]
     },
     "execution_count": 35,
     "metadata": {},
     "output_type": "execute_result"
    }
   ],
   "source": [
    "#checking count for Issue 9\n",
    "rd_df.doggo.value_counts()[1], rd_df.floofer.value_counts()[1], rd_df.pupper.value_counts()[1], rd_df.puppo.value_counts()[1]"
   ]
  },
  {
   "cell_type": "code",
   "execution_count": 36,
   "metadata": {},
   "outputs": [],
   "source": [
    "#making sure all \"None\" values are empy values\n",
    "rd_df.replace(\"None\", \"\", inplace=True)"
   ]
  },
  {
   "cell_type": "markdown",
   "metadata": {},
   "source": [
    "Test"
   ]
  },
  {
   "cell_type": "code",
   "execution_count": 37,
   "metadata": {},
   "outputs": [
    {
     "name": "stdout",
     "output_type": "stream",
     "text": [
      "<class 'pandas.core.frame.DataFrame'>\n",
      "Int64Index: 2175 entries, 0 to 2355\n",
      "Data columns (total 11 columns):\n",
      "tweet_id              2175 non-null object\n",
      "timestamp             2175 non-null datetime64[ns]\n",
      "source                2175 non-null object\n",
      "text                  2175 non-null object\n",
      "rating_numerator      2175 non-null float64\n",
      "rating_denominator    2175 non-null float64\n",
      "name                  2175 non-null object\n",
      "doggo                 2175 non-null object\n",
      "floofer               2175 non-null object\n",
      "pupper                2175 non-null object\n",
      "puppo                 2175 non-null object\n",
      "dtypes: datetime64[ns](1), float64(2), object(8)\n",
      "memory usage: 203.9+ KB\n"
     ]
    }
   ],
   "source": [
    "rd_df.info()"
   ]
  },
  {
   "cell_type": "markdown",
   "metadata": {},
   "source": [
    "## Issue #9: There are a lot of null values in rd_df columns doggo, floofer, puppo, and pupper."
   ]
  },
  {
   "cell_type": "markdown",
   "metadata": {},
   "source": [
    "#### Define: The columns need to be concatenated and make sure the multiple stages are addressed using LOC then dropping the remaining doggo, floofer, puppo and pupper columns leaving dog_stages"
   ]
  },
  {
   "cell_type": "markdown",
   "metadata": {},
   "source": [
    "#### Code"
   ]
  },
  {
   "cell_type": "code",
   "execution_count": 38,
   "metadata": {},
   "outputs": [],
   "source": [
    "#creating a new column\n",
    "rd_df['dog_stage'] = rd_df.doggo + rd_df.floofer + rd_df.pupper + rd_df.puppo"
   ]
  },
  {
   "cell_type": "code",
   "execution_count": 39,
   "metadata": {},
   "outputs": [],
   "source": [
    "# Then format entries with multiple dog stages which appeared like doggopupper.\n",
    "rd_df.loc[rd_df.dog_stage == 'doggopupper', 'dog_stage'] = 'doggo, pupper'\n",
    "rd_df.loc[rd_df.dog_stage == 'doggopuppo', 'dog_stage'] = 'doggo, puppo'\n",
    "rd_df.loc[rd_df.dog_stage == 'doggofloofer', 'dog_stage'] = 'doggo, floofer'"
   ]
  },
  {
   "cell_type": "code",
   "execution_count": 40,
   "metadata": {},
   "outputs": [],
   "source": [
    "rd_df.drop([\"doggo\", \"floofer\", \"pupper\", \"puppo\"], axis=1, inplace=True)"
   ]
  },
  {
   "cell_type": "markdown",
   "metadata": {},
   "source": [
    "#### Test"
   ]
  },
  {
   "cell_type": "code",
   "execution_count": 41,
   "metadata": {},
   "outputs": [
    {
     "data": {
      "text/plain": [
       "                  1831\n",
       "pupper             224\n",
       "doggo               75\n",
       "puppo               24\n",
       "doggo, pupper       10\n",
       "floofer              9\n",
       "doggo, puppo         1\n",
       "doggo, floofer       1\n",
       "Name: dog_stage, dtype: int64"
      ]
     },
     "execution_count": 41,
     "metadata": {},
     "output_type": "execute_result"
    }
   ],
   "source": [
    "#confirmed with #8 value counts 234 pupper (add the multistage), 86 doggo, 25 puppo and 10 floofer\n",
    "rd_df.dog_stage.value_counts()"
   ]
  },
  {
   "cell_type": "markdown",
   "metadata": {},
   "source": [
    "## Issue #10:  Merge data frames on shared tweet_ids."
   ]
  },
  {
   "cell_type": "markdown",
   "metadata": {},
   "source": [
    "#### Define:  Merging on tweet_ids"
   ]
  },
  {
   "cell_type": "markdown",
   "metadata": {},
   "source": [
    "#### Code"
   ]
  },
  {
   "cell_type": "code",
   "execution_count": 42,
   "metadata": {},
   "outputs": [],
   "source": [
    "#merge 1\n",
    "df12=pd.merge(tt_df, rd_df, on='tweet_id')"
   ]
  },
  {
   "cell_type": "code",
   "execution_count": 43,
   "metadata": {},
   "outputs": [],
   "source": [
    "#merge2\n",
    "df4=pd.merge(df12, ip_df, on='tweet_id')"
   ]
  },
  {
   "cell_type": "markdown",
   "metadata": {},
   "source": [
    "#### Test"
   ]
  },
  {
   "cell_type": "code",
   "execution_count": 44,
   "metadata": {
    "scrolled": true
   },
   "outputs": [
    {
     "name": "stdout",
     "output_type": "stream",
     "text": [
      "<class 'pandas.core.frame.DataFrame'>\n",
      "Int64Index: 1984 entries, 0 to 1983\n",
      "Data columns (total 21 columns):\n",
      "tweet_id              1984 non-null object\n",
      "retweet_count         1984 non-null object\n",
      "favorite_count        1984 non-null object\n",
      "timestamp             1984 non-null datetime64[ns]\n",
      "source                1984 non-null object\n",
      "text                  1984 non-null object\n",
      "rating_numerator      1984 non-null float64\n",
      "rating_denominator    1984 non-null float64\n",
      "name                  1984 non-null object\n",
      "dog_stage             1984 non-null object\n",
      "jpg_url               1984 non-null object\n",
      "img_num               1984 non-null int64\n",
      "p1                    1984 non-null object\n",
      "p1_conf               1984 non-null float64\n",
      "p1_dog                1984 non-null bool\n",
      "p2                    1984 non-null object\n",
      "p2_conf               1984 non-null float64\n",
      "p2_dog                1984 non-null bool\n",
      "p3                    1984 non-null object\n",
      "p3_conf               1984 non-null float64\n",
      "p3_dog                1984 non-null bool\n",
      "dtypes: bool(3), datetime64[ns](1), float64(5), int64(1), object(11)\n",
      "memory usage: 300.3+ KB\n"
     ]
    }
   ],
   "source": [
    "df4.info()"
   ]
  },
  {
   "cell_type": "markdown",
   "metadata": {},
   "source": [
    "## Storing Data\n",
    "Save gathered, assessed, and cleaned master dataset to a CSV file named \"twitter_archive_master.csv\"."
   ]
  },
  {
   "cell_type": "code",
   "execution_count": 45,
   "metadata": {},
   "outputs": [],
   "source": [
    "df4.to_csv('twitter_archive_master.csv', index=False)"
   ]
  },
  {
   "cell_type": "markdown",
   "metadata": {},
   "source": [
    "## Analyzing and Visualizing Data\n",
    "In this section, analyze and visualize your wrangled data. You must produce at least **three (3) insights and one (1) visualization.**"
   ]
  },
  {
   "cell_type": "code",
   "execution_count": 46,
   "metadata": {},
   "outputs": [],
   "source": [
    "df_all=pd.read_csv(\"twitter_archive_master.csv\")"
   ]
  },
  {
   "cell_type": "code",
   "execution_count": 47,
   "metadata": {},
   "outputs": [
    {
     "name": "stdout",
     "output_type": "stream",
     "text": [
      "<class 'pandas.core.frame.DataFrame'>\n",
      "RangeIndex: 1984 entries, 0 to 1983\n",
      "Data columns (total 21 columns):\n",
      "tweet_id              1984 non-null int64\n",
      "retweet_count         1984 non-null int64\n",
      "favorite_count        1984 non-null int64\n",
      "timestamp             1984 non-null object\n",
      "source                1984 non-null object\n",
      "text                  1984 non-null object\n",
      "rating_numerator      1984 non-null float64\n",
      "rating_denominator    1984 non-null float64\n",
      "name                  1401 non-null object\n",
      "dog_stage             304 non-null object\n",
      "jpg_url               1984 non-null object\n",
      "img_num               1984 non-null int64\n",
      "p1                    1984 non-null object\n",
      "p1_conf               1984 non-null float64\n",
      "p1_dog                1984 non-null bool\n",
      "p2                    1984 non-null object\n",
      "p2_conf               1984 non-null float64\n",
      "p2_dog                1984 non-null bool\n",
      "p3                    1984 non-null object\n",
      "p3_conf               1984 non-null float64\n",
      "p3_dog                1984 non-null bool\n",
      "dtypes: bool(3), float64(5), int64(4), object(9)\n",
      "memory usage: 284.9+ KB\n"
     ]
    }
   ],
   "source": [
    "df_all.info()"
   ]
  },
  {
   "cell_type": "code",
   "execution_count": 48,
   "metadata": {},
   "outputs": [
    {
     "data": {
      "text/plain": [
       "0"
      ]
     },
     "execution_count": 48,
     "metadata": {},
     "output_type": "execute_result"
    }
   ],
   "source": [
    "#seeing if there are any tweets that have not been retweeted\n",
    "(df_all.retweet_count==0).sum()"
   ]
  },
  {
   "cell_type": "code",
   "execution_count": 49,
   "metadata": {},
   "outputs": [
    {
     "data": {
      "text/plain": [
       "0.94758064516129037"
      ]
     },
     "execution_count": 49,
     "metadata": {},
     "output_type": "execute_result"
    }
   ],
   "source": [
    "#looking at how many times a tweet has 2x (or more) as many favorites as retweets compared to retweets.\n",
    "((df_all.retweet_count/df_all.favorite_count)<.5).sum()/df_all.retweet_count.count()"
   ]
  },
  {
   "cell_type": "code",
   "execution_count": 50,
   "metadata": {},
   "outputs": [
    {
     "data": {
      "text/plain": [
       "0.94758064516129037"
      ]
     },
     "execution_count": 50,
     "metadata": {},
     "output_type": "execute_result"
    }
   ],
   "source": [
    "#double checking my work\n",
    "((df_all.retweet_count*2)<df_all.favorite_count).sum()/df_all.retweet_count.count()"
   ]
  },
  {
   "cell_type": "code",
   "execution_count": 51,
   "metadata": {},
   "outputs": [
    {
     "data": {
      "text/plain": [
       "0.29385080645161288"
      ]
     },
     "execution_count": 51,
     "metadata": {},
     "output_type": "execute_result"
    }
   ],
   "source": [
    "#how many dogs do not have names in a tweet compared to number of tweets\n",
    "df_all.name.count()\n",
    "numberofNoNames=df_all.name.isnull().sum()/df_all.shape[0]\n",
    "numberofNoNames"
   ]
  },
  {
   "cell_type": "code",
   "execution_count": 52,
   "metadata": {},
   "outputs": [
    {
     "data": {
      "text/plain": [
       "0.37798913485301772"
      ]
     },
     "execution_count": 52,
     "metadata": {},
     "output_type": "execute_result"
    }
   ],
   "source": [
    "#how many retweets have dog names compared to retweet total and total of tweets with dog names\n",
    "df_all.retweet_count[df_all.name.count()].sum()/(df_all.retweet_count.count())*(1-numberofNoNames)"
   ]
  },
  {
   "cell_type": "code",
   "execution_count": 53,
   "metadata": {},
   "outputs": [],
   "source": [
    "#finding the overall rating per tweet\n",
    "df_all['rating']= df_all.rating_numerator/df_all.rating_denominator"
   ]
  },
  {
   "cell_type": "code",
   "execution_count": 54,
   "metadata": {},
   "outputs": [
    {
     "data": {
      "text/plain": [
       "0.79082661290322576"
      ]
     },
     "execution_count": 54,
     "metadata": {},
     "output_type": "execute_result"
    }
   ],
   "source": [
    "#finding the tweets that have a rating greater than or equal to 100% i.e. 10/10 or 13/13\n",
    "df_all.retweet_count[df_all.rating>=1].count()/df_all.retweet_count.count()"
   ]
  },
  {
   "cell_type": "markdown",
   "metadata": {},
   "source": [
    "### Insights:\n",
    "1. Relationship between retweets and favorites: 95% of all tweets have more than double the amount of favorites than retweets. \n",
    "\n",
    "2. Relationship between retweets and dog names: 38% of all tweets that had a dog's name in it are retweeted. \n",
    "\n",
    "3. Relationship between retweets and rating: 79% of all retweets have a rating equal to or higher than a 100% rating.  "
   ]
  },
  {
   "cell_type": "code",
   "execution_count": 55,
   "metadata": {},
   "outputs": [
    {
     "data": {
      "text/plain": [
       "2299.0"
      ]
     },
     "execution_count": 55,
     "metadata": {},
     "output_type": "execute_result"
    }
   ],
   "source": [
    "mean_count=df_all.retweet_count.mean().round()\n",
    "#df_all.timestamp.describe()\n",
    "mean_count"
   ]
  },
  {
   "cell_type": "markdown",
   "metadata": {
    "collapsed": true
   },
   "source": [
    "### Visualization"
   ]
  },
  {
   "cell_type": "code",
   "execution_count": 56,
   "metadata": {},
   "outputs": [],
   "source": [
    "#turns out csv doesn't keep datetime dtypes and will convert them back to objects\n",
    "df_all.timestamp=pd.to_datetime(df_all.timestamp, infer_datetime_format=True)"
   ]
  },
  {
   "cell_type": "code",
   "execution_count": 99,
   "metadata": {},
   "outputs": [],
   "source": [
    "#let's get day of week\n",
    "df_all.weekday=df_all.timestamp.dt.dayofweek"
   ]
  },
  {
   "cell_type": "code",
   "execution_count": 96,
   "metadata": {
    "scrolled": true
   },
   "outputs": [
    {
     "data": {
      "image/png": "[encoded data removed]",
      "text/plain": [
       "<matplotlib.figure.Figure at 0x7fd3ef211630>"
      ]
     },
     "metadata": {},
     "output_type": "display_data"
    }
   ],
   "source": [
    "#a visualization of retweet_count over time\n",
    "fig, axs = plt.subplots(figsize=(12, 4))\n",
    "df_all.groupby(df_all[\"timestamp\"].dt.dayofweek)[\"retweet_count\"].mean().plot(kind='bar', rot=90, ax=axs, color=\"purple\")\n",
    "plt.xlabel(\"Time\")\n",
    "plt.xticks([0,1,2,3,4,5,6],[\"Monday\", \"Tuesday\", \"Wednesday\", \"Thursday\", \"Friday\", \"Saturday\", \"Sunday\"])\n",
    "plt.ylabel(\"Average Retweet Count per Day\")\n",
    "plt.title(\"Retweets Over Time\");"
   ]
  },
  {
   "cell_type": "code",
   "execution_count": 98,
   "metadata": {},
   "outputs": [
    {
     "data": {
      "image/png": "[encoded data removed]",
      "text/plain": [
       "<matplotlib.figure.Figure at 0x7fd3ef29c7f0>"
      ]
     },
     "metadata": {},
     "output_type": "display_data"
    }
   ],
   "source": [
    "#visualization of dog nickname count\n",
    "values=df_all.dog_stage.value_counts().sort_values()\n",
    "df_all.dog_stage.value_counts().plot(kind=\"bar\", title=\"Dog Nicknames\", color=\"orange\")\n",
    "plt.tight_layout()\n",
    "plt.xticks(rotation=90)\n",
    "plt.ylabel(\"Count\");"
   ]
  }
 ],
 "metadata": {
  "extensions": {
   "jupyter_dashboards": {
    "activeView": "report_default",
    "version": 1,
    "views": {
     "grid_default": {
      "cellMargin": 10,
      "defaultCellHeight": 20,
      "maxColumns": 12,
      "name": "grid",
      "type": "grid"
     },
     "report_default": {
      "name": "report",
      "type": "report"
     }
    }
   }
  },
  "kernelspec": {
   "display_name": "Python 3",
   "language": "python",
   "name": "python3"
  },
  "language_info": {
   "codemirror_mode": {
    "name": "ipython",
    "version": 3
   },
   "file_extension": ".py",
   "mimetype": "text/x-python",
   "name": "python",
   "nbconvert_exporter": "python",
   "pygments_lexer": "ipython3",
   "version": "3.8.8"
  }
 },
 "nbformat": 4,
 "nbformat_minor": 2
}
